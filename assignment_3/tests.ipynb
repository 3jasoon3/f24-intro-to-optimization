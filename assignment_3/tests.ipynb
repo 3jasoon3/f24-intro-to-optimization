{
 "cells": [
  {
   "cell_type": "markdown",
   "metadata": {},
   "source": [
    "# Transportation Problem Tests\n",
    "\n",
    "This notebook contains test cases for three transportation problem solving methods:\n",
    "- North-West Corner Method (NWCM)\n",
    "- Vogel's Approximation Method (VAM)\n",
    "- Russell's Approximation Method"
   ]
  },
  {
   "cell_type": "code",
   "execution_count": 1,
   "metadata": {},
   "outputs": [],
   "source": [
    "from src.NWCM import NWCM\n",
    "from src.VAM import VAM\n",
    "from src.Russel import Russel\n",
    "from src.TransportationProblem import TransportationProblem\n",
    "import numpy as np\n"
   ]
  },
  {
   "cell_type": "code",
   "execution_count": 2,
   "metadata": {},
   "outputs": [],
   "source": [
    "def run_test(supply: list, demands: list, costs: list, test_num: int):\n",
    "    \"\"\"\n",
    "    Run a test case with all three methods and display results\n",
    "    \"\"\"\n",
    "    n = len(supply)\n",
    "    m = len(demands)\n",
    "    \n",
    "    print(f\"\\n### Test Case {test_num}\")\n",
    "    print(\"\\nInput Parameters:\")\n",
    "    print(f\"Supply Vector (S): {supply}\")\n",
    "    print(f\"Demand Vector (D): {demands}\")\n",
    "    print(\"Cost Matrix (C):\")\n",
    "    for row in costs:\n",
    "        print(row)\n",
    "    \n",
    "    tp = TransportationProblem(n, m, supply, demands, costs)\n",
    "    \n",
    "    print(\"\\nResults:\")\n",
    "    \n",
    "    print(\"\\nNorth-West Corner Method:\")\n",
    "    nwcm = NWCM(tp)\n",
    "    nwcm_sol = nwcm.solve()\n",
    "    initial = np.zeros((n, m))\n",
    "    for item in nwcm_sol:\n",
    "        initial[item[0]][item[1]] = item[3]\n",
    "        \n",
    "    print(\"Solution Matrix:\")\n",
    "    print(initial)\n",
    "    \n",
    "    print(\"\\nVogel's Approximation Method:\")\n",
    "    tp = TransportationProblem(n, m, supply, demands, costs)\n",
    "    vam = VAM(tp)\n",
    "    vam_sol = vam.solve()\n",
    "    initial = np.zeros((n, m))\n",
    "    for item in vam_sol:\n",
    "        initial[item[0]][item[1]] = item[3]\n",
    "    print(\"Solution Matrix:\")\n",
    "    print(initial)\n",
    "    \n",
    "    print(\"\\nRussell's Approximation Method:\")\n",
    "    tp = TransportationProblem(n, m, supply, demands, costs)\n",
    "    russel = Russel(tp)\n",
    "    russel_sol = russel.solve()\n",
    "    initial = np.zeros((n, m))\n",
    "    for item in russel_sol:\n",
    "        initial[item[0]][item[1]] = item[3]\n",
    "    print(\"Solution Matrix:\")\n",
    "    print(initial)"
   ]
  },
  {
   "cell_type": "markdown",
   "metadata": {},
   "source": [
    "### Test Case 1"
   ]
  },
  {
   "cell_type": "code",
   "execution_count": 3,
   "metadata": {},
   "outputs": [
    {
     "name": "stdout",
     "output_type": "stream",
     "text": [
      "\n",
      "### Test Case 1\n",
      "\n",
      "Input Parameters:\n",
      "Supply Vector (S): [15, 20, 25]\n",
      "Demand Vector (D): [10, 10, 20, 20]\n",
      "Cost Matrix (C):\n",
      "[8, 6, 10, 9]\n",
      "[9, 12, 13, 7]\n",
      "[14, 9, 16, 5]\n",
      "\n",
      "Results:\n",
      "\n",
      "North-West Corner Method:\n",
      "Solution Matrix:\n",
      "[[10.  5.  0.  0.]\n",
      " [ 0.  5. 15.  0.]\n",
      " [ 0.  0.  5. 20.]]\n",
      "\n",
      "Vogel's Approximation Method:\n",
      "Solution Matrix:\n",
      "[[ 0.  5. 10.  0.]\n",
      " [10.  0. 10.  0.]\n",
      " [ 0.  5.  0. 20.]]\n",
      "\n",
      "Russell's Approximation Method:\n",
      "Solution Matrix:\n",
      "[[ 0.  5. 10.  0.]\n",
      " [10.  0. 10.  0.]\n",
      " [ 0.  5.  0. 20.]]\n"
     ]
    }
   ],
   "source": [
    "supply = [15, 20, 25]\n",
    "demands = [10, 10, 20, 20]\n",
    "costs = [\n",
    "    \n",
    "    [8, 6, 10, 9],\n",
    "    [9, 12, 13, 7],\n",
    "    [14, 9, 16, 5]\n",
    "]\n",
    "\n",
    "run_test(supply, demands, costs, 1)"
   ]
  },
  {
   "cell_type": "markdown",
   "metadata": {},
   "source": [
    "Expected outputs:\n",
    "- North-West Corner Method: `[[10, 5, 0, 0], [0, 5, 15, 0], [0, 0, 5, 20]]`\n",
    "- Vogel's Approximation Method: `[[0, 5, 10, 0], [10, 0, 10, 0], [0, 5, 0, 20]]`\n",
    "- Russell's Approximation Method: `[[0, 5, 10, 0], [10, 0, 10, 0], [0, 5, 0, 20]]`"
   ]
  },
  {
   "cell_type": "markdown",
   "metadata": {},
   "source": [
    "### Test Case 2"
   ]
  },
  {
   "cell_type": "code",
   "execution_count": 4,
   "metadata": {},
   "outputs": [
    {
     "name": "stdout",
     "output_type": "stream",
     "text": [
      "\n",
      "### Test Case 2\n",
      "\n",
      "Input Parameters:\n",
      "Supply Vector (S): [25, 15, 30]\n",
      "Demand Vector (D): [15, 10, 25, 20]\n",
      "Cost Matrix (C):\n",
      "[4, 8, 6, 12]\n",
      "[10, 14, 7, 11]\n",
      "[13, 6, 15, 9]\n",
      "\n",
      "Results:\n",
      "\n",
      "North-West Corner Method:\n",
      "Solution Matrix:\n",
      "[[15. 10.  0.  0.]\n",
      " [ 0.  0. 15.  0.]\n",
      " [ 0.  0. 10. 20.]]\n",
      "\n",
      "Vogel's Approximation Method:\n",
      "Solution Matrix:\n",
      "[[15.  0. 10.  0.]\n",
      " [ 0.  0. 15.  0.]\n",
      " [ 0. 10.  0. 20.]]\n",
      "\n",
      "Russell's Approximation Method:\n",
      "Solution Matrix:\n",
      "[[15.  0. 10.  0.]\n",
      " [ 0.  0. 15.  0.]\n",
      " [ 0. 10.  0. 20.]]\n"
     ]
    }
   ],
   "source": [
    "supply = [25, 15, 30]\n",
    "demands = [15, 10, 25, 20]\n",
    "costs = [\n",
    "    [4, 8, 6, 12],\n",
    "    [10, 14, 7, 11],\n",
    "    [13, 6, 15, 9]\n",
    "    \n",
    "]\n",
    "\n",
    "run_test(supply, demands, costs, 2)"
   ]
  },
  {
   "cell_type": "markdown",
   "metadata": {},
   "source": [
    "Expected outputs:\n",
    "- North-West Corner Method: `[[15, 10, 0, 0] [0, 0 ,15, 0], [0,0,10,20]]`\n",
    "- Vogel's Approximation Method: `[[15, 0, 10, 0],[0, 0, 15, 0],[0, 10, 0, 20]]`\n",
    "- Russell's Approximation Method: `[[15, 0, 10, 0], [0, 0, 15, 0], [0,10,0,20]]`"
   ]
  },
  {
   "cell_type": "markdown",
   "metadata": {},
   "source": [
    "### Test Case 3"
   ]
  },
  {
   "cell_type": "code",
   "execution_count": 5,
   "metadata": {},
   "outputs": [
    {
     "name": "stdout",
     "output_type": "stream",
     "text": [
      "\n",
      "### Test Case 3\n",
      "\n",
      "Input Parameters:\n",
      "Supply Vector (S): [30, 25, 15]\n",
      "Demand Vector (D): [20, 10, 15, 25]\n",
      "Cost Matrix (C):\n",
      "[5, 9, 12, 8]\n",
      "[6, 11, 14, 10]\n",
      "[15, 13, 10, 7]\n",
      "\n",
      "Results:\n",
      "\n",
      "North-West Corner Method:\n",
      "Solution Matrix:\n",
      "[[20. 10.  0.  0.]\n",
      " [ 0.  0. 15. 10.]\n",
      " [ 0.  0.  0. 15.]]\n",
      "\n",
      "Vogel's Approximation Method:\n",
      "Solution Matrix:\n",
      "[[ 0. 10. 10. 10.]\n",
      " [20.  0.  5.  0.]\n",
      " [ 0.  0.  0. 15.]]\n",
      "\n",
      "Russell's Approximation Method:\n",
      "Solution Matrix:\n",
      "[[ 0. 10.  0. 20.]\n",
      " [20.  0.  0.  5.]\n",
      " [ 0.  0. 15.  0.]]\n"
     ]
    }
   ],
   "source": [
    "supply = [30, 25, 15]\n",
    "demands = [20, 10, 15, 25]\n",
    "costs = [\n",
    "    [5, 9, 12, 8],\n",
    "    [6, 11, 14, 10],\n",
    "    [15, 13, 10, 7]\n",
    "]\n",
    "\n",
    "run_test(supply, demands, costs, 3)"
   ]
  },
  {
   "cell_type": "markdown",
   "metadata": {},
   "source": [
    "Expected outputs:\n",
    "- North-West Corner Method: `[[20, 10, 0, 0] [0, 0 ,15, 10], [0, 0, 0, 15]]`\n",
    "- Vogel's Approximation Method: `[[0, 10, 10, 10],[20, 0, 5, 0],[0, 0, 0, 15]]`\n",
    "- Russell's Approximation Method: `[[0, 10, 0, 20], [20, 0, 0, 5], [0, 0, 15, 0]]`"
   ]
  }
 ],
 "metadata": {
  "kernelspec": {
   "display_name": "Python 3",
   "language": "python",
   "name": "python3"
  },
  "language_info": {
   "codemirror_mode": {
    "name": "ipython",
    "version": 3
   },
   "file_extension": ".py",
   "mimetype": "text/x-python",
   "name": "python",
   "nbconvert_exporter": "python",
   "pygments_lexer": "ipython3",
   "version": "3.9.6"
  }
 },
 "nbformat": 4,
 "nbformat_minor": 4
}
