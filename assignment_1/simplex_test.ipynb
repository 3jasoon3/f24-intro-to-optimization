{
 "cells": [
  {
   "cell_type": "code",
   "execution_count": 10,
   "metadata": {},
   "outputs": [],
   "source": [
    "from typing import List\n",
    "import numpy as np\n",
    "\n",
    "class Simplex:\n",
    "    def __init__(self, C: List[float], A: List[float], b:List[float], accuracy:float) -> None:\n",
    "        self.C_coef = np.array(C)\n",
    "        self.A_coef = np.array(A)\n",
    "        self.b_coef = np.array(b)\n",
    "        self.accuracy = accuracy\n",
    "        self.table = None\n",
    "        self.optimised = False\n",
    "        \n",
    "\n",
    "    def fill_initial_table(self):\n",
    "        \n",
    "        self.table = np.hstack((self.A_coef, np.eye(self.A_coef.shape[0]), np.reshape(self.b_coef, (-1,1))))\n",
    "        func = np.hstack((-self.C_coef, np.zeros(self.A_coef.shape[0] + 1)))\n",
    "        self.table = np.vstack((self.table, func))\n",
    "\n",
    "    def print_current_table(self):\n",
    "        print(self.table)\n",
    "\n",
    "    def is_optimised(self):\n",
    "        return self.is_optimised    \n",
    "\n",
    "    def make_iteration(self):\n",
    "        if self.table is None:\n",
    "            print(\"Table was not initialized!\")\n",
    "            return\n",
    "        \n",
    "        pivot_column = np.argmin(self.table[-1, :-1])\n",
    "        if self.table[-1, :-1][pivot_column] >= -self.accuracy:\n",
    "            self.optimised = True\n",
    "            return\n",
    "        ratios = np.divide(self.table[:-1, -1], self.table[:-1, pivot_column], out = np.full_like(self.table[:-1, -1], np.inf), where = self.table[:-1, pivot_column] > 0 )\n",
    "        pivot_row = np.argmin(ratios)\n",
    "\n",
    "        self.table [pivot_row] = self.table[pivot_row]/self.table[pivot_row][pivot_column]\n",
    "\n",
    "        for row in range(self.table.shape[0]):\n",
    "            if row != pivot_row:\n",
    "                self.table[row] = self.table[row] - self.table[row][pivot_column]*self.table[pivot_row]\n",
    "\n",
    "    def get_solution(self): \n",
    "        while not self.optimised:\n",
    "            self.make_iteration()\n",
    "\n",
    "        solution = np.zeros(2*self.A_coef.shape[0])\n",
    "        for row in range(self.A_coef.shape[0]):\n",
    "            basic_var = np.where(self.table[row][:2*self.A_coef.shape[0]] == 1)[0]\n",
    "            if len(basic_var) == 1:\n",
    "                solution[basic_var[0]] = self.table[row][-1]\n",
    "\n",
    "        decision_vars = solution[:self.A_coef.shape[0]]\n",
    "        max_value = self.table[-1, -1]\n",
    "\n",
    "        return decision_vars, max_value    "
   ]
  },
  {
   "cell_type": "markdown",
   "metadata": {},
   "source": [
    "The input contains:  \n",
    "• A vector of coefficients of objective function - C.  \n",
    "• A matrix of coefficients of constraint function - A.  \n",
    "• A vector of right-hand side numbers - b.  \n",
    "• The approximation accuracy.  "
   ]
  },
  {
   "cell_type": "markdown",
   "metadata": {},
   "source": [
    "The output contains:  \n",
    "• The string ”The method is not applicable!”  \n",
    "or  \n",
    "• A vector of decision variables - x.  \n",
    "• Maximum (minimum) value of the objective function."
   ]
  },
  {
   "cell_type": "code",
   "execution_count": 2,
   "metadata": {},
   "outputs": [],
   "source": [
    "def get_answer(C: List[float], A: List[float], b:List[float], accuracy: float):\n",
    "    simplex = Simplex(C, A, b, accuracy)\n",
    "    simplex.fill_initial_table()\n",
    "    answer, max_value = simplex.get_solution()\n",
    "    print(\"Solution: \")\n",
    "    for i in range(len(answer)):\n",
    "        print(f\"x{i + 1} = {answer[i]}\")\n",
    "    print(\"Max value: \")\n",
    "    print(max_value)"
   ]
  },
  {
   "cell_type": "markdown",
   "metadata": {},
   "source": [
    "### Test #1: incorrect"
   ]
  },
  {
   "cell_type": "code",
   "execution_count": 12,
   "metadata": {},
   "outputs": [
    {
     "name": "stdout",
     "output_type": "stream",
     "text": [
      "Solution: \n",
      "x1 = 0.0\n",
      "x2 = 8.0\n",
      "Max value: \n",
      "400.0\n"
     ]
    }
   ],
   "source": [
    "#https://www.cuemath.com/algebra/linear-programming/\n",
    "# When x1 = 4 and x2 = 8 then value of Z = 400\n",
    "# x2 != 0\n",
    "\n",
    "C = [40, 30]\n",
    "A = [[1, 1], [2, 1]]\n",
    "b = [12, 16]\n",
    "accuracy = 0.1\n",
    "\n",
    "get_answer(C, A, b, accuracy)"
   ]
  },
  {
   "cell_type": "markdown",
   "metadata": {},
   "source": [
    "### Test #2: incorrect"
   ]
  },
  {
   "cell_type": "code",
   "execution_count": 5,
   "metadata": {},
   "outputs": [
    {
     "name": "stdout",
     "output_type": "stream",
     "text": [
      "Solution: \n",
      "x1 = 4.0\n",
      "x2 = 5.0\n",
      "x3 = 0.0\n",
      "Max value: \n",
      "33.0\n"
     ]
    }
   ],
   "source": [
    "# 33 is the maximum value of Z and it occurs at C. Thus, the solution is x = 4 and y = 5.\n",
    "# we don't have x3\n",
    "\n",
    "C = [2, 5]\n",
    "A = [[1, 4], [3, 1], [1, 1]]\n",
    "b = [24, 21, 9]\n",
    "accuracy = 0.5\n",
    "\n",
    "get_answer(C, A, b, accuracy)"
   ]
  },
  {
   "cell_type": "markdown",
   "metadata": {},
   "source": [
    "### Test #3: incorrect"
   ]
  },
  {
   "cell_type": "code",
   "execution_count": 18,
   "metadata": {},
   "outputs": [
    {
     "name": "stdout",
     "output_type": "stream",
     "text": [
      "Solution: \n",
      "x1 = 0.0\n",
      "x2 = 8.999999999999998\n",
      "Max value: \n",
      "27.0\n"
     ]
    }
   ],
   "source": [
    "# We get the maximum value of Z = 27 at x1 = 0, x2 = 9 x3 = 3\n",
    "# Where is x3???\n",
    "\n",
    "C = [1, 2, 3]\n",
    "A = [[1, 1, 1], [2, 1, 3]]\n",
    "b = [12, 18]\n",
    "accuracy = 0.7\n",
    "\n",
    "get_answer(C, A, b, accuracy)"
   ]
  },
  {
   "cell_type": "markdown",
   "metadata": {},
   "source": [
    "### Test #4: incorrect"
   ]
  },
  {
   "cell_type": "code",
   "execution_count": 20,
   "metadata": {},
   "outputs": [
    {
     "name": "stdout",
     "output_type": "stream",
     "text": [
      "Solution: \n",
      "x1 = 0.0\n",
      "x2 = 0.0\n",
      "x3 = 20.0\n",
      "Max value: \n",
      "400.0\n"
     ]
    }
   ],
   "source": [
    "# When x1 = 0 and x2 = 8 and x3 = 20 then value of Z = 400\n",
    "# x2 != 0\n",
    "\n",
    "C = [9, 10, 16]\n",
    "A = [[18, 15, 12], [6, 4, 8], [5, 3, 3]]\n",
    "b = [360, 192, 180]\n",
    "accuracy = 0.00001\n",
    "\n",
    "get_answer(C, A, b, accuracy)"
   ]
  },
  {
   "cell_type": "markdown",
   "metadata": {},
   "source": [
    "### Test #5: incorrect"
   ]
  },
  {
   "cell_type": "code",
   "execution_count": 21,
   "metadata": {},
   "outputs": [
    {
     "name": "stdout",
     "output_type": "stream",
     "text": [
      "Solution: \n",
      "x1 = 0.0\n",
      "x2 = 225.0\n",
      "x3 = 0.0\n",
      "Max value: \n",
      "1050.0\n"
     ]
    }
   ],
   "source": [
    "# When x1 = 0 and x2 = 225.0 and x3 = 0 and x4 = 150 then value of Z = 1050\n",
    "# Where is x4???\n",
    "\n",
    "C = [6, 2, 2.5, 4]\n",
    "A = [[5, 1, 0, 2], [4, 2, 2, 1], [1, 0, 2, 1]]\n",
    "b = [1000, 600, 150]\n",
    "accuracy = 0.00001\n",
    "\n",
    "get_answer(C, A, b, accuracy)"
   ]
  },
  {
   "cell_type": "markdown",
   "metadata": {},
   "source": [
    "### Test #6: incorrect"
   ]
  },
  {
   "cell_type": "code",
   "execution_count": null,
   "metadata": {},
   "outputs": [],
   "source": [
    "#https://1cov-edu.ru/linejnoe-programmirovanie/simpleks-metod/primer-net-resheniya/?ysclid=m16ir708gt504218275\n",
    "# Simplex Method is not applicable :c\n",
    "# We go to an infinite loop\n",
    "\n",
    "C = [4, 5, 4]\n",
    "A = [[2, 3, -6], [4, 2, -4], [4, 6, -8]]\n",
    "b = [240, 200, 160]\n",
    "accuracy = 0.001\n",
    "\n",
    "get_answer(C, A, b, accuracy)"
   ]
  }
 ],
 "metadata": {
  "kernelspec": {
   "display_name": "dl",
   "language": "python",
   "name": "python3"
  },
  "language_info": {
   "codemirror_mode": {
    "name": "ipython",
    "version": 3
   },
   "file_extension": ".py",
   "mimetype": "text/x-python",
   "name": "python",
   "nbconvert_exporter": "python",
   "pygments_lexer": "ipython3",
   "version": "3.9.19"
  }
 },
 "nbformat": 4,
 "nbformat_minor": 2
}
