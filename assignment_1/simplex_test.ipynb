{
 "cells": [
  {
   "cell_type": "code",
   "execution_count": 145,
   "metadata": {},
   "outputs": [],
   "source": [
    "from typing import List, Tuple\n",
    "import numpy as np\n",
    "\n",
    "class Simplex:\n",
    "    \"\"\"\n",
    "    The Simplex class implements the Simplex method for solving linear programming problems.\n",
    "    \"\"\"\n",
    "    def __init__(\n",
    "        self, C: List[float], A: List[float], b: List[float], accuracy: float\n",
    "    ) -> None:\n",
    "        \"\"\"\n",
    "        Initializes the Simplex method with the following inputs:\n",
    "        C: Coefficients of the objective function.\n",
    "        A: Coefficients of the inequality constraints.\n",
    "        b: Right-hand side values of the inequality constraints.\n",
    "        accuracy: Precision for detecting optimality (helps handle floating-point errors).\n",
    "        \"\"\"\n",
    "        self.C_coef = np.array(C) # Objective function coefficients\n",
    "        self.A_coef = np.array(A) # Coefficients of the constraints\n",
    "        self.b_coef = np.array(b) # Right-hand side values\n",
    "        self.accuracy = accuracy  # Desired accuracy\n",
    "        self.table = None         # Simplex table\n",
    "        self.optimised = False    # Indicates whether the solution is optimized\n",
    "        self.solvable = True      # Indicates whether the problem is solvable\n",
    "\n",
    "    def check_infeasibility(self) -> bool:\n",
    "        \"\"\"\n",
    "        If any value in the right-hand side vector b is negative\n",
    "        and the corresponding row in the matrix A has no positive coefficients,\n",
    "        the problem is infeasible.\n",
    "        \"\"\"\n",
    "        for i in range(len(self.b_coef)):\n",
    "            if self.b_coef[i] < 0 and all(self.A_coef[i][j] <= 0 for j in range(len(self.A_coef[i]))):\n",
    "                return True\n",
    "        return False\n",
    "            \n",
    "    def check_unboudedness(self, ratios: np.ndarray) -> bool:\n",
    "        \"\"\"\n",
    "        If the objective function can grow indefinitely in the direction\n",
    "        of the feasible region, then the problem is unbounded.\n",
    "        \"\"\"\n",
    "        if np.all(np.isinf(ratios)):\n",
    "            print(\"The method is not applicable!\")\n",
    "            self.solvable = False\n",
    "            return True\n",
    "        return False\n",
    "\n",
    "    def fill_initial_table(self) -> None:\n",
    "        \"\"\"\n",
    "        Initializes the Simplex table by combining the constraint matrix A, \n",
    "        the identity matrix (for slack variables), and the right-hand side vector b.\n",
    "        Also appends the objective function row with negative coefficients of C.\n",
    "        \"\"\"\n",
    "        self.table = np.hstack(\n",
    "            (\n",
    "                self.A_coef,                        # Coefficients of the constraints\n",
    "                np.eye(self.A_coef.shape[0]),       # Identity matrix for slack variables\n",
    "                np.reshape(self.b_coef, (-1, 1)),   # Right-hand side vector b\n",
    "            )\n",
    "        )\n",
    "        # Objective function row (negative coefficients of C)\n",
    "        func = np.hstack((-self.C_coef, np.zeros(self.A_coef.shape[0] + 1)))\n",
    "        # Add the objective function row at the bottom\n",
    "        self.table = np.vstack((self.table, func))\n",
    "\n",
    "    def make_iteration(self) -> None:\n",
    "        \"\"\"\n",
    "        Performs one iteration of the Simplex algorithm:\n",
    "        1. Finds the pivot column.\n",
    "        2. Checks for unboundedness.\n",
    "        3. Performs the pivot operation to transform the table.\n",
    "        \"\"\"\n",
    "\n",
    "        if self.table is None:\n",
    "            print(\"Table was not initialized!\")\n",
    "            return\n",
    "        \n",
    "        # Find the most negative value in the objective row\n",
    "        pivot_column = np.argmin(self.table[-1, :-1])\n",
    "\n",
    "        # Check if the solution is already optimal\n",
    "        if self.table[-1, :-1][pivot_column] >= -self.accuracy:\n",
    "            self.optimised = True\n",
    "            return\n",
    "        \n",
    "        # Compute the ratios for the ratio test\n",
    "        ratios = np.divide(\n",
    "            self.table[:-1, -1],                            # Right-hand side values (b)\n",
    "            self.table[:-1, pivot_column],                  # Pivot column values\n",
    "            out=np.full_like(self.table[:-1, -1], np.inf),  # Fill with inf where division is not valid\n",
    "            where=self.table[:-1, pivot_column] > 0,        # Only consider positive entries in the pivot column\n",
    "        )\n",
    "\n",
    "        if self.check_unboudedness(ratios):\n",
    "            return\n",
    "\n",
    "        # Select the pivot row\n",
    "        pivot_row = np.argmin(ratios)\n",
    "        # Normalize the pivot row\n",
    "        self.table[pivot_row] = (\n",
    "            self.table[pivot_row] / self.table[pivot_row][pivot_column]\n",
    "        )\n",
    "        # Make all other elements in the pivot column zero\n",
    "        for row in range(self.table.shape[0]):\n",
    "            if row != pivot_row:\n",
    "                self.table[row] = (\n",
    "                    self.table[row]\n",
    "                    - self.table[row][pivot_column] * self.table[pivot_row]\n",
    "                )\n",
    "\n",
    "    def get_solution(self) -> Tuple[List[float], float]:\n",
    "        \"\"\"\n",
    "        Returns the decision variables and the optimized objective function value if the solution exists.\n",
    "        \"\"\"\n",
    "\n",
    "        # Check if the problem is infeasible\n",
    "        if self.check_infeasibility():\n",
    "            print(f\"The method is not applicable!\")\n",
    "            self.solvable = False\n",
    "       \n",
    "        # Perform iterations while the solution is not optimized\n",
    "        while (not self.optimised) and self.solvable:\n",
    "            self.make_iteration()\n",
    "        \n",
    "        # If the problem is unsolvable, return empty results\n",
    "        if not self.solvable:\n",
    "            return [], None\n",
    "     \n",
    "        # Initialize solution array (size of decision variables + slack variables)\n",
    "        solution = np.zeros(\n",
    "            self.C_coef.shape[0] + self.A_coef.shape[0]\n",
    "        )\n",
    "\n",
    "        for row in range(self.A_coef.shape[0]):\n",
    "            # Find the column index in this row where the value is 1\n",
    "            for col in range(self.C_coef.shape[0] + self.A_coef.shape[0]):\n",
    "                # Check if this column is a basic variable\n",
    "                if self.table[row, col] == 1 and np.sum(self.table[:, col]) == 1:\n",
    "                    # This is a basic variable column\n",
    "                    solution[col] = self.table[row, -1]\n",
    "                    break  # Move to the next row\n",
    "\n",
    "        # Extract decision variables from the solution\n",
    "        decision_vars = solution[: self.C_coef.shape[0]]\n",
    "\n",
    "        # Round to 10 decimal places\n",
    "        decision_vars = [round(var, 10) for var in decision_vars]\n",
    "        max_value = round(self.table[-1, -1], 10)\n",
    "\n",
    "        return decision_vars, max_value"
   ]
  },
  {
   "cell_type": "markdown",
   "metadata": {},
   "source": [
    "The input contains:  \n",
    "• A vector of coefficients of objective function - C.  \n",
    "• A matrix of coefficients of constraint function - A.  \n",
    "• A vector of right-hand side numbers - b.  \n",
    "• The approximation accuracy.  "
   ]
  },
  {
   "cell_type": "markdown",
   "metadata": {},
   "source": [
    "The output contains:  \n",
    "• The string ”The method is not applicable!”  \n",
    "or  \n",
    "• A vector of decision variables - x.  \n",
    "• Maximum (minimum) value of the objective function."
   ]
  },
  {
   "cell_type": "code",
   "execution_count": 133,
   "metadata": {},
   "outputs": [],
   "source": [
    "def get_answer(C: List[float], A: List[float], b:List[float], accuracy: float):\n",
    "    simplex = Simplex(C, A, b, accuracy)\n",
    "    simplex.fill_initial_table()\n",
    "    answer, max_value = simplex.get_solution()\n",
    "    if not len(answer):\n",
    "        return\n",
    "    print(\"Decision variables:\")\n",
    "    for i in range(len(answer)):\n",
    "        print(f\"x{i + 1} = {answer[i]}\")\n",
    "    print(f\"Optimized objective function's value: {max_value}\")"
   ]
  },
  {
   "cell_type": "markdown",
   "metadata": {},
   "source": [
    "### Test #1: correct"
   ]
  },
  {
   "cell_type": "code",
   "execution_count": 134,
   "metadata": {},
   "outputs": [
    {
     "name": "stdout",
     "output_type": "stream",
     "text": [
      "Decision variables:\n",
      "x1 = 4.0\n",
      "x2 = 8.0\n",
      "Optimized objective function's value: 400.0\n"
     ]
    }
   ],
   "source": [
    "# https://www.cuemath.com/algebra/linear-programming/\n",
    "# When x1 = 4 and x2 = 8 then value of Z = 400\n",
    "# x2 != 0\n",
    "\n",
    "C = [40, 30]\n",
    "A = [[1, 1], [2, 1]]\n",
    "b = [12, 16]\n",
    "accuracy = 0.1\n",
    "\n",
    "get_answer(C, A, b, accuracy)"
   ]
  },
  {
   "cell_type": "markdown",
   "metadata": {},
   "source": [
    "### Test #2: correct"
   ]
  },
  {
   "cell_type": "code",
   "execution_count": 135,
   "metadata": {},
   "outputs": [
    {
     "name": "stdout",
     "output_type": "stream",
     "text": [
      "Decision variables:\n",
      "x1 = 4.0\n",
      "x2 = 5.0\n",
      "Optimized objective function's value: 33.0\n"
     ]
    }
   ],
   "source": [
    "# 33 is the maximum value of Z and it occurs at C. Thus, the solution is x = 4 and y = 5.\n",
    "\n",
    "C = [2, 5]\n",
    "A = [[1, 4], [3, 1], [1, 1]]\n",
    "b = [24, 21, 9]\n",
    "accuracy = 0.5\n",
    "\n",
    "get_answer(C, A, b, accuracy)"
   ]
  },
  {
   "cell_type": "markdown",
   "metadata": {},
   "source": [
    "### Test #3: correct"
   ]
  },
  {
   "cell_type": "code",
   "execution_count": 146,
   "metadata": {},
   "outputs": [
    {
     "name": "stdout",
     "output_type": "stream",
     "text": [
      "Decision variables:\n",
      "x1 = 0.0\n",
      "x2 = 9.0\n",
      "x3 = 3.0\n",
      "Optimized objective function's value: 27.0\n"
     ]
    }
   ],
   "source": [
    "# We get the maximum value of Z = 27 at x1 = 0, x2 = 9 x3 = 3\n",
    "\n",
    "C = [1, 2, 3]\n",
    "A = [[1, 1, 1], [2, 1, 3]]\n",
    "b = [12, 18]\n",
    "accuracy = 0.7\n",
    "\n",
    "get_answer(C, A, b, accuracy)"
   ]
  },
  {
   "cell_type": "markdown",
   "metadata": {},
   "source": [
    "### Test #4: correct"
   ]
  },
  {
   "cell_type": "code",
   "execution_count": 144,
   "metadata": {},
   "outputs": [
    {
     "name": "stdout",
     "output_type": "stream",
     "text": [
      "Decision variables:\n",
      "x1 = 0.0\n",
      "x2 = 8.0\n",
      "x3 = 20.0\n",
      "Optimized objective function's value: 400.0\n"
     ]
    }
   ],
   "source": [
    "# When x1 = 0 and x2 = 8 and x3 = 20 then value of Z = 400\n",
    "\n",
    "C = [9, 10, 16]\n",
    "A = [[18, 15, 12], [6, 4, 8], [5, 3, 3]]\n",
    "b = [360, 192, 180]\n",
    "accuracy = 0.00001\n",
    "\n",
    "get_answer(C, A, b, accuracy)"
   ]
  },
  {
   "cell_type": "markdown",
   "metadata": {},
   "source": [
    "### Test #5: correct"
   ]
  },
  {
   "cell_type": "code",
   "execution_count": 138,
   "metadata": {},
   "outputs": [
    {
     "name": "stdout",
     "output_type": "stream",
     "text": [
      "Decision variables:\n",
      "x1 = 0.0\n",
      "x2 = 225.0\n",
      "x3 = 0.0\n",
      "x4 = 150.0\n",
      "Optimized objective function's value: 1050.0\n"
     ]
    }
   ],
   "source": [
    "# When x1 = 0 and x2 = 225.0 and x3 = 0 and x4 = 150 then value of Z = 1050\n",
    "\n",
    "C = [6, 2, 2.5, 4]\n",
    "A = [[5, 1, 0, 2], [4, 2, 2, 1], [1, 0, 2, 1]]\n",
    "b = [1000, 600, 150]\n",
    "accuracy = 0.00001\n",
    "\n",
    "get_answer(C, A, b, accuracy)"
   ]
  },
  {
   "cell_type": "markdown",
   "metadata": {},
   "source": [
    "### Test #6: correct"
   ]
  },
  {
   "cell_type": "code",
   "execution_count": 139,
   "metadata": {},
   "outputs": [
    {
     "name": "stdout",
     "output_type": "stream",
     "text": [
      "The method is not applicable!\n"
     ]
    }
   ],
   "source": [
    "#https://1cov-edu.ru/linejnoe-programmirovanie/simpleks-metod/primer-net-resheniya/?ysclid=m16ir708gt504218275\n",
    "# Simplex Method is not applicable\n",
    "\n",
    "C = [4, 5, 4]\n",
    "A = [[2, 3, -6], [4, 2, -4], [4, 6, -8]]\n",
    "b = [240, 200, 160]\n",
    "accuracy = 0.001\n",
    "\n",
    "get_answer(C, A, b, accuracy)"
   ]
  },
  {
   "cell_type": "markdown",
   "metadata": {},
   "source": [
    "### Test #7: correct"
   ]
  },
  {
   "cell_type": "code",
   "execution_count": 140,
   "metadata": {},
   "outputs": [
    {
     "name": "stdout",
     "output_type": "stream",
     "text": [
      "The method is not applicable!\n"
     ]
    }
   ],
   "source": [
    "# This system is infeasible because no values of 𝑥1​ and x2 ​\n",
    "# can satisfy both inequalities simultaneously.\n",
    "\n",
    "C = [-1, -1]\n",
    "A = [[1, 1], [-1,-1]]\n",
    "b = [1, -3]\n",
    "accuracy = 0.001\n",
    "\n",
    "get_answer(C, A, b, accuracy)"
   ]
  },
  {
   "cell_type": "markdown",
   "metadata": {},
   "source": [
    "### Test #8: correct"
   ]
  },
  {
   "cell_type": "code",
   "execution_count": 141,
   "metadata": {},
   "outputs": [
    {
     "name": "stdout",
     "output_type": "stream",
     "text": [
      "The method is not applicable!\n"
     ]
    }
   ],
   "source": [
    "#This problem is unbounded because the objective function can increase indefinitely as x1 increases.\n",
    "\n",
    "C = [2, 1]\n",
    "A = [[-1, 1]]\n",
    "b = [1]\n",
    "accuracy = 0.001\n",
    "\n",
    "get_answer(C, A, b, accuracy)"
   ]
  }
 ],
 "metadata": {
  "kernelspec": {
   "display_name": "dl",
   "language": "python",
   "name": "python3"
  },
  "language_info": {
   "codemirror_mode": {
    "name": "ipython",
    "version": 3
   },
   "file_extension": ".py",
   "mimetype": "text/x-python",
   "name": "python",
   "nbconvert_exporter": "python",
   "pygments_lexer": "ipython3",
   "version": "3.12.3"
  }
 },
 "nbformat": 4,
 "nbformat_minor": 2
}
