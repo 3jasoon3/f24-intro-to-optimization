{
 "cells": [
  {
   "cell_type": "code",
   "execution_count": 1,
   "metadata": {},
   "outputs": [],
   "source": [
    "from typing import List\n",
    "from src.simplex import Simplex"
   ]
  },
  {
   "cell_type": "markdown",
   "metadata": {},
   "source": [
    "The input contains:  \n",
    "• A vector of coefficients of objective function - C.  \n",
    "• A matrix of coefficients of constraint function - A.  \n",
    "• A vector of right-hand side numbers - b.  \n",
    "• The approximation accuracy.  "
   ]
  },
  {
   "cell_type": "markdown",
   "metadata": {},
   "source": [
    "The output contains:  \n",
    "• The string ”The method is not applicable!”  \n",
    "or  \n",
    "• A vector of decision variables - x.  \n",
    "• Maximum (minimum) value of the objective function."
   ]
  },
  {
   "cell_type": "code",
   "execution_count": 2,
   "metadata": {},
   "outputs": [],
   "source": [
    "def get_answer(C: List[float], A: List[float], b: List[float], accuracy: float) -> None:\n",
    "    simplex = Simplex(C, A, b, accuracy)\n",
    "    simplex.fill_initial_table()\n",
    "    answer, max_value = simplex.get_solution()\n",
    "    if not len(answer):\n",
    "        return\n",
    "    print(\"Decision variables:\")\n",
    "    for i in range(len(answer)):\n",
    "        print(f\"x{i + 1} = {answer[i]}\")\n",
    "    print(f\"Optimized objective function's value: {max_value}\")"
   ]
  },
  {
   "cell_type": "markdown",
   "metadata": {},
   "source": [
    "### Test #1: <span style=\"color:green\">**Correct**</span>"
   ]
  },
  {
   "cell_type": "code",
   "execution_count": 4,
   "metadata": {},
   "outputs": [
    {
     "name": "stdout",
     "output_type": "stream",
     "text": [
      "Decision variables:\n",
      "x1 = 4.0\n",
      "x2 = 8.0\n",
      "Optimized objective function's value: 400.0\n"
     ]
    }
   ],
   "source": [
    "# https://www.cuemath.com/algebra/linear-programming/\n",
    "# When x1 = 4 and x2 = 8 then value of Z = 400\n",
    "# x2 != 0\n",
    "\n",
    "C = [40, 30]\n",
    "A = [[1, 1], [2, 1]]\n",
    "b = [12, 16]\n",
    "accuracy = 0.1\n",
    "\n",
    "get_answer(C, A, b, accuracy)"
   ]
  },
  {
   "cell_type": "markdown",
   "metadata": {},
   "source": [
    "### Test #2: <span style=\"color:green\">**Correct**</span>"
   ]
  },
  {
   "cell_type": "code",
   "execution_count": 5,
   "metadata": {},
   "outputs": [
    {
     "name": "stdout",
     "output_type": "stream",
     "text": [
      "Decision variables:\n",
      "x1 = 4.0\n",
      "x2 = 5.0\n",
      "Optimized objective function's value: 33.0\n"
     ]
    }
   ],
   "source": [
    "# 33 is the maximum value of Z and it occurs at C. Thus, the solution is x = 4 and y = 5.\n",
    "\n",
    "C = [2, 5]\n",
    "A = [[1, 4], [3, 1], [1, 1]]\n",
    "b = [24, 21, 9]\n",
    "accuracy = 0.5\n",
    "\n",
    "get_answer(C, A, b, accuracy)"
   ]
  },
  {
   "cell_type": "markdown",
   "metadata": {},
   "source": [
    "### Test #3: <span style=\"color:green\">**Correct**</span>"
   ]
  },
  {
   "cell_type": "code",
   "execution_count": 6,
   "metadata": {},
   "outputs": [
    {
     "name": "stdout",
     "output_type": "stream",
     "text": [
      "Decision variables:\n",
      "x1 = 0.0\n",
      "x2 = 9.0\n",
      "x3 = 3.0\n",
      "Optimized objective function's value: 27.0\n"
     ]
    }
   ],
   "source": [
    "# We get the maximum value of Z = 27 at x1 = 0, x2 = 9 x3 = 3\n",
    "\n",
    "C = [1, 2, 3]\n",
    "A = [[1, 1, 1], [2, 1, 3]]\n",
    "b = [12, 18]\n",
    "accuracy = 0.7\n",
    "\n",
    "get_answer(C, A, b, accuracy)"
   ]
  },
  {
   "cell_type": "markdown",
   "metadata": {},
   "source": [
    "### Test #4: <span style=\"color:green\">**Correct**</span>"
   ]
  },
  {
   "cell_type": "code",
   "execution_count": 7,
   "metadata": {},
   "outputs": [
    {
     "name": "stdout",
     "output_type": "stream",
     "text": [
      "Decision variables:\n",
      "x1 = 0.0\n",
      "x2 = 8.0\n",
      "x3 = 20.0\n",
      "Optimized objective function's value: 400.0\n"
     ]
    }
   ],
   "source": [
    "# When x1 = 0 and x2 = 8 and x3 = 20 then value of Z = 400\n",
    "\n",
    "C = [9, 10, 16]\n",
    "A = [[18, 15, 12], [6, 4, 8], [5, 3, 3]]\n",
    "b = [360, 192, 180]\n",
    "accuracy = 0.00001\n",
    "\n",
    "get_answer(C, A, b, accuracy)"
   ]
  },
  {
   "cell_type": "markdown",
   "metadata": {},
   "source": [
    "### Test #5: <span style=\"color:green\">**Correct**</span>"
   ]
  },
  {
   "cell_type": "code",
   "execution_count": 8,
   "metadata": {},
   "outputs": [
    {
     "name": "stdout",
     "output_type": "stream",
     "text": [
      "Decision variables:\n",
      "x1 = 0.0\n",
      "x2 = 225.0\n",
      "x3 = 0.0\n",
      "x4 = 150.0\n",
      "Optimized objective function's value: 1050.0\n"
     ]
    }
   ],
   "source": [
    "# When x1 = 0 and x2 = 225.0 and x3 = 0 and x4 = 150 then value of Z = 1050\n",
    "\n",
    "C = [6, 2, 2.5, 4]\n",
    "A = [[5, 1, 0, 2], [4, 2, 2, 1], [1, 0, 2, 1]]\n",
    "b = [1000, 600, 150]\n",
    "accuracy = 0.00001\n",
    "\n",
    "get_answer(C, A, b, accuracy)"
   ]
  },
  {
   "cell_type": "markdown",
   "metadata": {},
   "source": [
    "### Test #6: <span style=\"color:green\">**Correct**</span>"
   ]
  },
  {
   "cell_type": "code",
   "execution_count": 10,
   "metadata": {},
   "outputs": [
    {
     "name": "stdout",
     "output_type": "stream",
     "text": [
      "The method is not applicable!\n"
     ]
    }
   ],
   "source": [
    "# https://1cov-edu.ru/linejnoe-programmirovanie/simpleks-metod/primer-net-resheniya/?ysclid=m16ir708gt504218275\n",
    "# Simplex Method is not applicable\n",
    "\n",
    "C = [4, 5, 4]\n",
    "A = [[2, 3, -6], [4, 2, -4], [4, 6, -8]]\n",
    "b = [240, 200, 160]\n",
    "accuracy = 0.001\n",
    "\n",
    "get_answer(C, A, b, accuracy)"
   ]
  },
  {
   "cell_type": "markdown",
   "metadata": {},
   "source": [
    "### Test #7: <span style=\"color:green\">**Correct**</span>"
   ]
  },
  {
   "cell_type": "code",
   "execution_count": 140,
   "metadata": {},
   "outputs": [
    {
     "name": "stdout",
     "output_type": "stream",
     "text": [
      "The method is not applicable!\n"
     ]
    }
   ],
   "source": [
    "# This system is infeasible because no values of x1​ and x2 ​\n",
    "# can satisfy both inequalities simultaneously.\n",
    "\n",
    "C = [-1, -1]\n",
    "A = [[1, 1], [-1,-1]]\n",
    "b = [1, -3]\n",
    "accuracy = 0.001\n",
    "\n",
    "get_answer(C, A, b, accuracy)"
   ]
  },
  {
   "cell_type": "markdown",
   "metadata": {},
   "source": [
    "### Test #8: <span style=\"color:green\">**Correct**</span>"
   ]
  },
  {
   "cell_type": "code",
   "execution_count": 9,
   "metadata": {},
   "outputs": [
    {
     "name": "stdout",
     "output_type": "stream",
     "text": [
      "The method is not applicable!\n"
     ]
    }
   ],
   "source": [
    "# This problem is unbounded because the objective function can increase indefinitely as x1 increases.\n",
    "\n",
    "C = [2, 1]\n",
    "A = [[-1, 1]]\n",
    "b = [1]\n",
    "accuracy = 0.001\n",
    "\n",
    "get_answer(C, A, b, accuracy)"
   ]
  }
 ],
 "metadata": {
  "kernelspec": {
   "display_name": "dl",
   "language": "python",
   "name": "python3"
  },
  "language_info": {
   "codemirror_mode": {
    "name": "ipython",
    "version": 3
   },
   "file_extension": ".py",
   "mimetype": "text/x-python",
   "name": "python",
   "nbconvert_exporter": "python",
   "pygments_lexer": "ipython3",
   "version": "3.12.3"
  }
 },
 "nbformat": 4,
 "nbformat_minor": 2
}
